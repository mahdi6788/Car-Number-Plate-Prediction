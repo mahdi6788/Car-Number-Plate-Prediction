{
  "nbformat": 4,
  "nbformat_minor": 0,
  "metadata": {
    "colab": {
      "provenance": [],
      "authorship_tag": "ABX9TyNsW9/xkYQG4DGKclToF6ym"
    },
    "kernelspec": {
      "name": "python3",
      "display_name": "Python 3"
    },
    "language_info": {
      "name": "python"
    }
  },
  "cells": [
    {
      "cell_type": "markdown",
      "metadata": {
        "id": "6XZi9CB7NHxz"
      },
      "source": [
        "# **Car Number Plate Detection Using YOLOv7**"
      ]
    },
    {
      "cell_type": "code",
      "execution_count": null,
      "metadata": {
        "id": "_Xqo7EikqoRi"
      },
      "outputs": [],
      "source": [
        "import os\n",
        "import shutil"
      ]
    },
    {
      "cell_type": "markdown",
      "metadata": {
        "id": "O5jGkNBQ-hNW"
      },
      "source": [
        "## Kaggle settings"
      ]
    },
    {
      "cell_type": "code",
      "execution_count": null,
      "metadata": {
        "colab": {
          "base_uri": "https://localhost:8080/"
        },
        "id": "8cKD3HZCWe2e",
        "outputId": "51afcf61-52fd-441d-e421-efe51744cbea"
      },
      "outputs": [
        {
          "name": "stdout",
          "output_type": "stream",
          "text": [
            "Looking in indexes: https://pypi.org/simple, https://us-python.pkg.dev/colab-wheels/public/simple/\n",
            "Requirement already satisfied: kaggle in /usr/local/lib/python3.10/dist-packages (1.5.13)\n",
            "Requirement already satisfied: six>=1.10 in /usr/local/lib/python3.10/dist-packages (from kaggle) (1.16.0)\n",
            "Requirement already satisfied: certifi in /usr/local/lib/python3.10/dist-packages (from kaggle) (2022.12.7)\n",
            "Requirement already satisfied: python-dateutil in /usr/local/lib/python3.10/dist-packages (from kaggle) (2.8.2)\n",
            "Requirement already satisfied: requests in /usr/local/lib/python3.10/dist-packages (from kaggle) (2.27.1)\n",
            "Requirement already satisfied: tqdm in /usr/local/lib/python3.10/dist-packages (from kaggle) (4.65.0)\n",
            "Requirement already satisfied: python-slugify in /usr/local/lib/python3.10/dist-packages (from kaggle) (8.0.1)\n",
            "Requirement already satisfied: urllib3 in /usr/local/lib/python3.10/dist-packages (from kaggle) (1.26.15)\n",
            "Requirement already satisfied: text-unidecode>=1.3 in /usr/local/lib/python3.10/dist-packages (from python-slugify->kaggle) (1.3)\n",
            "Requirement already satisfied: charset-normalizer~=2.0.0 in /usr/local/lib/python3.10/dist-packages (from requests->kaggle) (2.0.12)\n",
            "Requirement already satisfied: idna<4,>=2.5 in /usr/local/lib/python3.10/dist-packages (from requests->kaggle) (3.4)\n"
          ]
        }
      ],
      "source": [
        "# Installing kaggle\n",
        "!pip install kaggle"
      ]
    },
    {
      "cell_type": "code",
      "execution_count": null,
      "metadata": {
        "id": "ENBt7iQpZmXw"
      },
      "outputs": [],
      "source": [
        "# Upload JSON file got from Kaggle\n",
        "from google.colab import files\n",
        "files.upload()"
      ]
    },
    {
      "cell_type": "code",
      "execution_count": null,
      "metadata": {
        "id": "aG-PvpqRZlo5"
      },
      "outputs": [],
      "source": [
        "!mkdir ~/.kaggle\n",
        "!mv kaggle.json ~/.kaggle/\n",
        "!chmod 600 ~/.kaggle/kaggle.json"
      ]
    },
    {
      "cell_type": "code",
      "execution_count": null,
      "metadata": {
        "colab": {
          "base_uri": "https://localhost:8080/"
        },
        "id": "4LU-HQYIbqkq",
        "outputId": "bdd53064-5eb5-4f1d-f29a-e6ffb4aad3c0"
      },
      "outputs": [
        {
          "name": "stdout",
          "output_type": "stream",
          "text": [
            "Downloading iraniancarnumberplate.zip to /content\n",
            " 95% 12.0M/12.6M [00:01<00:00, 10.5MB/s]\n",
            "100% 12.6M/12.6M [00:01<00:00, 7.37MB/s]\n"
          ]
        }
      ],
      "source": [
        "!kaggle datasets download -d skhalili/iraniancarnumberplate"
      ]
    },
    {
      "cell_type": "markdown",
      "metadata": {
        "id": "NaVFZ0Ru-o5F"
      },
      "source": [
        "## Data Preprocessing"
      ]
    },
    {
      "cell_type": "code",
      "execution_count": null,
      "metadata": {
        "id": "H40VDOsvbqhX"
      },
      "outputs": [],
      "source": [
        "# Extract the Row data file to the saving destination (Google Drive)\n",
        "import zipfile\n",
        "# Specify the path to the downloaded zip file\n",
        "zip_path = \"/content/iraniancarnumberplate.zip\"\n",
        "# Extract the contents of the zip file\n",
        "with zipfile.ZipFile(zip_path, \"r\") as zip_ref:\n",
        "  zip_ref.extractall(\"/content/drive/MyDrive/Colab Notebooks/ComputerVision/Digit_Classification/Persian/CarNumberPlate/iraniancarnumberplate\")"
      ]
    },
    {
      "cell_type": "code",
      "execution_count": null,
      "metadata": {
        "id": "WJjPm-9b5z5K"
      },
      "outputs": [],
      "source": [
        "cars_path = \"/content/drive/MyDrive/Colab Notebooks/ComputerVision/Digit_Classification/Persian/CarNumberPlate/iraniancarnumberplate/car\" "
      ]
    },
    {
      "cell_type": "code",
      "execution_count": null,
      "metadata": {
        "id": "UHtYClQp6BJF"
      },
      "outputs": [],
      "source": [
        "train_images_path = \"/content/drive/MyDrive/Colab Notebooks/ComputerVision/Digit_Classification/Persian/CarNumberPlate/train/images\"\n",
        "train_labels_path = \"/content/drive/MyDrive/Colab Notebooks/ComputerVision/Digit_Classification/Persian/CarNumberPlate/train/labels\"\n",
        "val_images_path = \"/content/drive/MyDrive/Colab Notebooks/ComputerVision/Digit_Classification/Persian/CarNumberPlate/val/images\"\n",
        "val_labels_path = \"/content/drive/MyDrive/Colab Notebooks/ComputerVision/Digit_Classification/Persian/CarNumberPlate/val/labels\"\n",
        "test_images_path = \"/content/drive/MyDrive/Colab Notebooks/ComputerVision/Digit_Classification/Persian/CarNumberPlate/test/images\"\n",
        "test_labels_path = \"/content/drive/MyDrive/Colab Notebooks/ComputerVision/Digit_Classification/Persian/CarNumberPlate/test/labels\"\n",
        "\n",
        "# Creating the dirs if there are not already\n",
        "if not os.path.exists(train_images_path):\n",
        "  os.makedirs(train_images_path)\n",
        "if not os.path.exists(train_labels_path):\n",
        "  os.makedirs(train_labels_path)\n",
        "if not os.path.exists(val_images_path):\n",
        "  os.makedirs(val_images_path)\n",
        "if not os.path.exists(val_labels_path):\n",
        "  os.makedirs(val_labels_path)\n",
        "if not os.path.exists(test_images_path):\n",
        "  os.makedirs(test_images_path)\n",
        "if not os.path.exists(test_labels_path):\n",
        "  os.makedirs(test_labels_path)"
      ]
    },
    {
      "cell_type": "code",
      "execution_count": null,
      "metadata": {
        "id": "_3Ep1cKeqLJs"
      },
      "outputs": [],
      "source": [
        "# Converting the label format\n",
        "import xml.etree.ElementTree as ET\n",
        "\n",
        "def change_format(xml_path):\n",
        "  tree = ET.parse(xml_path)\n",
        "  root = tree.getroot()\n",
        "  width = int(root.find('.//width').text)\n",
        "  height = int(root.find('.//height').text)\n",
        "  xmin = int(root.find('.//bndbox/xmin').text)\n",
        "  ymin = int(root.find('.//bndbox/ymin').text)\n",
        "  xmax = int(root.find('.//bndbox/xmax').text)\n",
        "  ymax = int(root.find('.//bndbox/ymax').text)\n",
        "\n",
        "  # Transform the bbox co-ordinates as per the format required by YOLO v7\n",
        "  center_x = (xmin + xmax) / 2 \n",
        "  center_y = (ymin + ymax) / 2\n",
        "  b_width    = (xmax - xmin)\n",
        "  b_height   = (ymax - ymin)\n",
        "          \n",
        "  # Normalise the co-ordinates by the dimensions of the image\n",
        "  center_x /= width \n",
        "  center_y /= height \n",
        "  b_width    /= width \n",
        "  b_height   /= height\n",
        "\n",
        "  class_label = 0\n",
        "\n",
        "  return class_label, center_x, center_y, b_width, b_height\n",
        "\n",
        "\n",
        "# print(\"Width: {}\".format(width))\n",
        "# print(\"Height: {}\".format(height))\n",
        "# print(\"XMin: {}, YMin: {}\\nXMax: {}, YMax: {}\".format(xmin, ymin, xmax, ymax))"
      ]
    },
    {
      "cell_type": "code",
      "execution_count": null,
      "metadata": {
        "id": "UIJ_zRm3bqfA"
      },
      "outputs": [],
      "source": [
        "# Reading data file and spliting it into train, validation and test sets both image and labels\n",
        "\n",
        "for file_name in os.listdir(cars_path):\n",
        "  if file_name.endswith(\".jpg\"):\n",
        "      txt_name = file_name[:-4] + \".txt\"\n",
        "      xml_name = file_name[:-4] + \".xml\"\n",
        "      xml_path = os.path.join(cars_path, xml_name)\n",
        "\n",
        "      img_path = os.path.join(cars_path, file_name)\n",
        "      \n",
        "      # train_set\n",
        "      if random.random() <= 0.7:\n",
        "          shutil.copy(os.path.join(cars_path, file_name) , os.path.join(train_images_path, file_name))\n",
        "          txt_path = os.path.join(train_labels_path, txt_name)\n",
        "          numbers = change_format(xml_path)\n",
        "          with open(txt_path, \"w\") as file:\n",
        "            for number in numbers:\n",
        "              file.write(str(number) + \" \")\n",
        "      \n",
        "      # test_set\n",
        "      elif random.random() >= 0.9:\n",
        "          shutil.copy(os.path.join(cars_path, file_name) , os.path.join(test_images_path, file_name))\n",
        "          txt_path = os.path.join(test_labels_path, txt_name)\n",
        "          numbers = change_format(xml_path)\n",
        "          with open(txt_path, \"w\") as file:\n",
        "            for number in numbers:\n",
        "              file.write(str(number) + \" \")\n",
        "      \n",
        "      # validation_set\n",
        "      else:\n",
        "          shutil.copy(os.path.join(cars_path, file_name) , os.path.join(val_images_path, file_name))\n",
        "          txt_path = os.path.join(val_labels_path, txt_name)\n",
        "          numbers = change_format(xml_path)\n",
        "          with open(txt_path, \"w\") as file:\n",
        "            for number in numbers:\n",
        "              file.write(str(number) + \" \")"
      ]
    },
    {
      "cell_type": "markdown",
      "metadata": {
        "id": "tiNuuhtCWtM8"
      },
      "source": [
        "## Fine tune the **Yolo7** over the dataset"
      ]
    },
    {
      "cell_type": "code",
      "execution_count": null,
      "metadata": {
        "id": "ml9GL5cnNGYN"
      },
      "outputs": [],
      "source": [
        "!git clone https://github.com/augmentedstartups/yolov7.git"
      ]
    },
    {
      "cell_type": "code",
      "execution_count": null,
      "metadata": {
        "id": "SAaJ05yKajr2"
      },
      "outputs": [],
      "source": [
        "%cd yolov7"
      ]
    },
    {
      "cell_type": "code",
      "execution_count": null,
      "metadata": {
        "id": "FVFdWB0LWSvA"
      },
      "outputs": [],
      "source": [
        "!pip install -r requirements.txt"
      ]
    },
    {
      "cell_type": "code",
      "execution_count": null,
      "metadata": {
        "id": "02O1Tp7ia254"
      },
      "outputs": [],
      "source": [
        "## Download yolov7 weights\n",
        "%%bash\n",
        "wget -P \"/content/drive/MyDrive/Colab Notebooks/ComputerVision/Digit_Classification/Persian/CarNumberPlate\" https://github.com/WongKinYiu/yolov7/releases/download/v0.1/yolov7.pt"
      ]
    },
    {
      "cell_type": "markdown",
      "source": [
        "**NOTE:** If you want to run in **GPU**, before running: change the command line 742 in **loss.py** to the following command: \n",
        "**matching_matrix = torch.zeros_like(cost, device=\"cpu\")**.\n",
        "The difference is **device=\"cpu\"**."
      ],
      "metadata": {
        "id": "7KTgQRWpzQPS"
      }
    },
    {
      "cell_type": "code",
      "execution_count": null,
      "metadata": {
        "id": "HxR3-2rvcofA"
      },
      "outputs": [],
      "source": [
        "!python train.py --weights \"/content/drive/MyDrive/Colab Notebooks/ComputerVision/Digit_Classification/Persian/CarNumberPlate/yolov7.pt\" --data \"/content/drive/MyDrive/Colab Notebooks/ComputerVision/Digit_Classification/Persian/CarNumberPlate/yaml_yolov7.yml\" --epochs 70 --batch 10 --device 0"
      ]
    },
    {
      "cell_type": "code",
      "execution_count": null,
      "metadata": {
        "id": "DNFMx-mi8Nub"
      },
      "outputs": [],
      "source": [
        "!python detect.py --weight \"/content/yolov7/runs/train/exp2/weights/best.pt\" --source \"/content/drive/MyDrive/Colab Notebooks/ComputerVision/Digit_Classification/Persian/CarNumberPlate/test/images\""
      ]
    }
  ]
}