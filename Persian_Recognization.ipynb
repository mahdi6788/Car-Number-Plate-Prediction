{
  "nbformat": 4,
  "nbformat_minor": 0,
  "metadata": {
    "colab": {
      "provenance": [],
      "authorship_tag": "ABX9TyPuxYSwNNLiuaP4mH2lQu3T"
    },
    "kernelspec": {
      "name": "python3",
      "display_name": "Python 3"
    },
    "language_info": {
      "name": "python"
    }
  },
  "cells": [
    {
      "cell_type": "markdown",
      "metadata": {
        "id": "McQSQSyy0b1p"
      },
      "source": [
        "# **Persian Recognization**"
      ]
    },
    {
      "cell_type": "markdown",
      "metadata": {
        "id": "LsdqOQ8cA0te"
      },
      "source": [
        "## **Dataset Prepration**: Persian Numbers and Letters"
      ]
    },
    {
      "cell_type": "code",
      "execution_count": null,
      "metadata": {
        "id": "loNW0vxuR1Wa"
      },
      "outputs": [],
      "source": [
        "import os\n",
        "import shutil\n",
        "import re\n",
        "import random\n",
        "from keras.utils.image_utils import img_to_array\n",
        "from keras.utils import load_img\n",
        "import numpy as np\n",
        "import matplotlib.pyplot as plt\n",
        "import cv2\n",
        "from google.colab.patches import cv2_imshow"
      ]
    },
    {
      "cell_type": "code",
      "execution_count": null,
      "metadata": {
        "id": "jdaamshWWx0G"
      },
      "outputs": [],
      "source": [
        "'''\n",
        "# Introducing path of row data\n",
        "image_path = \"/content/drive/MyDrive/Colab Notebooks/ComputerVision/Digit_Classification/Persian/alpha\"\n",
        "'''"
      ]
    },
    {
      "cell_type": "code",
      "execution_count": null,
      "metadata": {
        "colab": {
          "base_uri": "https://localhost:8080/"
        },
        "id": "Bs_EdDKWfjGm",
        "outputId": "82035d62-7677-4e48-97f8-06bf255a1c2a"
      },
      "outputs": [
        {
          "data": {
            "text/plain": [
              "43"
            ]
          },
          "execution_count": 4,
          "metadata": {},
          "output_type": "execute_result"
        }
      ],
      "source": [
        "class_names = ['alef', 'b', 'p', 't', 'se', 'jim', 'che', 'h', 'kh', 'd', 'zal', 'r', 'z', 'zh', 'sin', 'shin', 'sad', 'zad', 't-long', 'z-long', 'ayin', 'ghyin', 'f', 'ghe', 'k', 'g', 'le', 'm', 'n', 'v', 'he', 'ye', 'zero', 'one', 'two', 'three', 'four', 'five', 'six', 'seven', 'eight', 'nine', 'anewfive']\n",
        "num_classes = len(class_names)\n",
        "num_classes"
      ]
    },
    {
      "cell_type": "code",
      "execution_count": null,
      "metadata": {
        "id": "jv8P3eOVXI36"
      },
      "outputs": [],
      "source": [
        "# Creating path of dataset\n",
        "dataset_path = \"/content/drive/MyDrive/Colab Notebooks/ComputerVision/Digit_Classification/Persian/dataset\"\n",
        "if not os.path.exists(dataset_path):\n",
        "  os.makedirs(dataset_path)"
      ]
    },
    {
      "cell_type": "code",
      "execution_count": null,
      "metadata": {
        "id": "coOgXv5bc09q"
      },
      "outputs": [],
      "source": [
        "'''\n",
        "# Tranfering row data to dataset\n",
        "for folder_name in os.listdir(image_path):\n",
        "  folder_path = os.path.join(image_path, folder_name)\n",
        "\n",
        "  if os.path.isdir(folder_path):\n",
        "    # check each file is folder or not\n",
        "    for file_name in os.listdir(folder_path):\n",
        "      file_path = os.path.join(folder_path, file_name)\n",
        "      # copy each file to destination\n",
        "      shutil.copy(file_path, dataset_path)\n",
        "'''"
      ]
    },
    {
      "cell_type": "code",
      "execution_count": null,
      "metadata": {
        "colab": {
          "base_uri": "https://localhost:8080/"
        },
        "id": "v-Yb_vy4Nv_h",
        "outputId": "854f6c51-86cf-423a-e216-305be9f826b9"
      },
      "outputs": [
        {
          "name": "stdout",
          "output_type": "stream",
          "text": [
            "training_image=  3260 , training_label=  3260 \n",
            "validation_image=  981 , validation_label=  981 \n",
            "test_image=  58 , test_label=  58\n"
          ]
        }
      ],
      "source": [
        "# Spliting dataset into train, validation, and test sets randomly\n",
        "\n",
        "img_train = []\n",
        "label_train = []\n",
        "img_val = []\n",
        "label_val = []\n",
        "img_test = []\n",
        "label_test = []\n",
        "\n",
        "pattern = re.compile(\"[A-Za-z]+\")\n",
        "\n",
        "for image_name in os.listdir(dataset_path):\n",
        "  img_path = os.path.join(dataset_path, image_name)\n",
        "  # image = load_img(img_path, color_mode=\"rgb\", target_size=(100,100), keep_aspect_ratio=True)\n",
        "  image = cv2.imread(img_path)\n",
        "  \n",
        "  image_gray = cv2.cvtColor(image, cv2.COLOR_BGR2GRAY)\n",
        "  _ , threshold = cv2.threshold(image_gray, 3,255, cv2.THRESH_BINARY_INV, cv2.THRESH_OTSU)\n",
        "  contours , _ = cv2.findContours(threshold, cv2.RETR_EXTERNAL, cv2.CHAIN_APPROX_SIMPLE)\n",
        "  # # Sorting contours from left\n",
        "  contours = sorted(contours, key=lambda x: cv2.contourArea(x), reverse=True)\n",
        "  x,y,w,h = cv2.boundingRect(contours[0])\n",
        "  image = threshold[y-12:y+h+12,x-7:x+w+7]\n",
        "  image = img_to_array(image)\n",
        "  image = cv2.resize(image, (100,100))\n",
        "  # image = image.reshape(100,100)\n",
        "  # cv2_imshow(image)\n",
        "  # print(image.shape)\n",
        "  # break\n",
        "  if random.random() <= 0.75:\n",
        "    lb_train = pattern.findall(image_name[:-4])\n",
        "    label_train.append(lb_train[0])\n",
        "    img_train.append(image)\n",
        "\n",
        "  elif random.random() >= 0.95:\n",
        "    lb_test = pattern.findall(image_name[:-4])\n",
        "    label_test.append(lb_test[0])\n",
        "    img_test.append(image)\n",
        "\n",
        "  else:\n",
        "    lb_val = pattern.findall(image_name[:-4])\n",
        "    label_val.append(lb_val[0])\n",
        "    img_val.append(image)\n",
        "\n",
        "print(\"training_image= \", len(img_train),\", training_label= \", len(label_train),\"\\n\" \n",
        "      \"validation_image= \",len(img_val), \", validation_label= \",len(label_val),\"\\n\"\n",
        "      \"test_image= \",len(img_test), \", test_label= \",len(label_test))"
      ]
    },
    {
      "cell_type": "code",
      "execution_count": null,
      "metadata": {
        "colab": {
          "base_uri": "https://localhost:8080/"
        },
        "id": "jmigrVPPZKYB",
        "outputId": "37d6f5fa-d29f-4755-f172-2df346eddd3a"
      },
      "outputs": [
        {
          "name": "stdout",
          "output_type": "stream",
          "text": [
            "(58, 100, 100)\n",
            "(58,)\n"
          ]
        }
      ],
      "source": [
        "# Converting to array\n",
        "train_image = np.array(img_train)\n",
        "train_label = np.array(label_train)\n",
        "val_image = np.array(img_val)\n",
        "val_label = np.array(label_val)\n",
        "test_image = np.array(img_test)\n",
        "test_label = np.array(label_test)\n",
        "\n",
        "print(test_image.shape)\n",
        "print(test_label.shape)"
      ]
    },
    {
      "cell_type": "code",
      "execution_count": null,
      "metadata": {
        "colab": {
          "base_uri": "https://localhost:8080/",
          "height": 134
        },
        "id": "4_T1PKbCTuCS",
        "outputId": "098205c5-b4c6-493e-82cf-d1452e9a95a6"
      },
      "outputs": [
        {
          "data": {
            "image/png": "[encoded data removed]",
            "text/plain": [
              "<PIL.Image.Image image mode=L size=100x100 at 0x7F0C13D7E980>"
            ]
          },
          "metadata": {},
          "output_type": "display_data"
        },
        {
          "name": "stdout",
          "output_type": "stream",
          "text": [
            "t\n"
          ]
        }
      ],
      "source": [
        "# plt.imshow(test_image[1], cmap=\"gray\")\n",
        "cv2_imshow(train_image[225])\n",
        "print(train_label[225])"
      ]
    },
    {
      "cell_type": "markdown",
      "metadata": {
        "id": "wZ3qzmd4cQ-c"
      },
      "source": [
        "## **Building CNN model**"
      ]
    },
    {
      "cell_type": "code",
      "execution_count": null,
      "metadata": {
        "id": "YNNa6ZZtcQZN"
      },
      "outputs": [],
      "source": [
        "import tensorflow as tf\n",
        "from tensorflow import keras\n",
        "from sklearn.preprocessing import OneHotEncoder\n",
        "from keras.callbacks import EarlyStopping"
      ]
    },
    {
      "cell_type": "markdown",
      "metadata": {
        "id": "QddEPGExwS17"
      },
      "source": [
        "### Data Preprocessing"
      ]
    },
    {
      "cell_type": "code",
      "execution_count": null,
      "metadata": {
        "id": "6g5Nl9L8d16T"
      },
      "outputs": [],
      "source": [
        "# X: Normalization and float making\n",
        "\n",
        "trainimage = train_image/255.0\n",
        "testimage = test_image/255.0\n",
        "valimage = val_image/255.0"
      ]
    },
    {
      "cell_type": "code",
      "execution_count": null,
      "metadata": {
        "id": "m2o_IT32x9Bx"
      },
      "outputs": [],
      "source": [
        "# y: Catorical Target\n",
        "encoder = OneHotEncoder()\n",
        "fitencoder= encoder.fit(np.array(class_names).reshape(-1,1))\n",
        "trainlabel = fitencoder.transform(np.array(train_label).reshape(-1,1)).toarray()\n",
        "testlabel = fitencoder.transform(np.array(test_label).reshape(-1,1)).toarray()\n",
        "vallabel = fitencoder.transform(np.array(val_label).reshape(-1,1)).toarray()"
      ]
    },
    {
      "cell_type": "code",
      "execution_count": null,
      "metadata": {
        "colab": {
          "base_uri": "https://localhost:8080/"
        },
        "id": "V6E9mztQyjjp",
        "outputId": "02706d85-8db7-4730-b340-487f51730fa9"
      },
      "outputs": [
        {
          "name": "stdout",
          "output_type": "stream",
          "text": [
            "(3260, 43)\n",
            "(981, 43)\n",
            "(58, 43)\n",
            "[0. 0. 0. 0. 0. 0. 0. 0. 0. 0. 0. 0. 0. 0. 0. 1. 0. 0. 0. 0. 0. 0. 0. 0.\n",
            " 0. 0. 0. 0. 0. 0. 0. 0. 0. 0. 0. 0. 0. 0. 0. 0. 0. 0. 0.]\n",
            "jim\n",
            "jim\n",
            "[0. 0. 0. 0. 0. 0. 0. 0. 0. 0. 0. 0. 0. 0. 0. 1. 0. 0. 0. 0. 0. 0. 0. 0.\n",
            " 0. 0. 0. 0. 0. 0. 0. 0. 0. 0. 0. 0. 0. 0. 0. 0. 0. 0. 0.]\n"
          ]
        }
      ],
      "source": [
        "print(trainlabel.shape)\n",
        "print(vallabel.shape)\n",
        "print(testlabel.shape)\n",
        "print(testlabel[0])\n",
        "print(label_test[0])\n",
        "print(label_val[0])\n",
        "print(vallabel[0])"
      ]
    },
    {
      "cell_type": "code",
      "execution_count": null,
      "metadata": {
        "id": "G6MMsJUFcm5Y"
      },
      "outputs": [],
      "source": [
        "# model = keras.models.Sequential([\n",
        "#     keras.layers.Reshape([100,100,1], input_shape=(100,100)),\n",
        "#     keras.layers.Conv2D(filters=16, kernel_size=5, activation=\"tanh\"),          \n",
        "#     keras.layers.MaxPooling2D(pool_size=2),                                     \n",
        "#     keras.layers.Conv2D(filters=32, kernel_size=3, activation=\"tanh\"),          \n",
        "#     keras.layers.MaxPooling2D(pool_size=2),\n",
        "#     keras.layers.Conv2D(filters=128, kernel_size=3, activation=\"tanh\"), \n",
        "#     keras.layers.MaxPooling2D(pool_size=2),\n",
        "#     keras.layers.Conv2D(filters=128, kernel_size=3, activation=\"tanh\"), \n",
        "#     keras.layers.MaxPooling2D(pool_size=2),\n",
        "#     keras.layers.Conv2D(filters=128, kernel_size=3, activation=\"tanh\"),          \n",
        "#     keras.layers.MaxPooling2D(pool_size=2),\n",
        "\n",
        "#     keras.layers.Dropout(rate=0.2),\n",
        "#     keras.layers.Flatten(),\n",
        "#     # keras.layers.Dense(units=100, activation=\"tanh\"),\n",
        "#     keras.layers.Dense(units=100, activation=\"tanh\"),\n",
        "#     keras.layers.Dense(43, activation=\"softmax\")\n",
        "# ])\n",
        "\n",
        "# model.compile(\n",
        "#     loss=\"categorical_crossentropy\",\n",
        "#     metrics=[\"accuracy\"],\n",
        "#     optimizer=\"adam\"\n",
        "# )\n",
        "# early_stopping = EarlyStopping(patience=5, restore_best_weights=True)\n",
        "# history = model.fit(trainimage, trainlabel, validation_data=(valimage,vallabel), epochs=100, batch_size=200, callbacks=[early_stopping])"
      ]
    },
    {
      "cell_type": "code",
      "execution_count": null,
      "metadata": {
        "id": "kK-V7uHE7R0Q"
      },
      "outputs": [],
      "source": [
        "# scores = model.evaluate(testimage, testlabel)\n",
        "# print(\"Model Error= %.2f%%\" %(100*(1-scores[1])))"
      ]
    },
    {
      "cell_type": "code",
      "execution_count": null,
      "metadata": {
        "colab": {
          "base_uri": "https://localhost:8080/",
          "height": 449
        },
        "id": "1LF10cbjF6-N",
        "outputId": "4a33f7f8-b2a4-498c-b285-edcacf5c6c6b"
      },
      "outputs": [
        {
          "data": {
            "image/png": "[encoded data removed]",
            "text/plain": [
              "<Figure size 640x480 with 1 Axes>"
            ]
          },
          "metadata": {},
          "output_type": "display_data"
        }
      ],
      "source": [
        "# plt.plot(history.history[\"loss\"])\n",
        "# plt.plot(history.history[\"val_loss\"])\n",
        "# plt.legend([\"loss\", \"val_loss\"])\n",
        "# plt.xlabel(\"epochs\")\n",
        "# plt.ylabel(\"loss\")\n",
        "# plt.show()"
      ]
    },
    {
      "cell_type": "code",
      "execution_count": null,
      "metadata": {
        "id": "4KUzIwN2jWfY"
      },
      "outputs": [],
      "source": [
        "# # save both the weights and the architecture \n",
        "# model.save(\"PersianCNN_threshold.h5\")"
      ]
    },
    {
      "cell_type": "markdown",
      "metadata": {
        "id": "E9iZeGvdvUgt"
      },
      "source": [
        "## **Loading trained model**"
      ]
    },
    {
      "cell_type": "code",
      "execution_count": null,
      "metadata": {
        "id": "U0MhZc2Tsi89"
      },
      "outputs": [],
      "source": [
        "# load the saved model\n",
        "from keras.models import load_model\n",
        "persian_model = load_model(\"/content/drive/MyDrive/Colab Notebooks/ComputerVision/Digit_Classification/Persian/PersianCNN_threshold.h5\")"
      ]
    },
    {
      "cell_type": "code",
      "execution_count": null,
      "metadata": {
        "colab": {
          "base_uri": "https://localhost:8080/"
        },
        "id": "4Dk0dhw29ed7",
        "outputId": "1645eea6-7d26-4222-fe99-26e7818aa2a0"
      },
      "outputs": [
        {
          "name": "stdout",
          "output_type": "stream",
          "text": [
            "Model: \"sequential\"\n",
            "_________________________________________________________________\n",
            " Layer (type)                Output Shape              Param #   \n",
            "=================================================================\n",
            " reshape (Reshape)           (None, 100, 100, 1)       0         \n",
            "                                                                 \n",
            " conv2d (Conv2D)             (None, 96, 96, 32)        832       \n",
            "                                                                 \n",
            " max_pooling2d (MaxPooling2D  (None, 48, 48, 32)       0         \n",
            " )                                                               \n",
            "                                                                 \n",
            " conv2d_1 (Conv2D)           (None, 46, 46, 16)        4624      \n",
            "                                                                 \n",
            " max_pooling2d_1 (MaxPooling  (None, 23, 23, 16)       0         \n",
            " 2D)                                                             \n",
            "                                                                 \n",
            " max_pooling2d_2 (MaxPooling  (None, 11, 11, 16)       0         \n",
            " 2D)                                                             \n",
            "                                                                 \n",
            " conv2d_2 (Conv2D)           (None, 9, 9, 16)          2320      \n",
            "                                                                 \n",
            " max_pooling2d_3 (MaxPooling  (None, 4, 4, 16)         0         \n",
            " 2D)                                                             \n",
            "                                                                 \n",
            " max_pooling2d_4 (MaxPooling  (None, 2, 2, 16)         0         \n",
            " 2D)                                                             \n",
            "                                                                 \n",
            " dropout (Dropout)           (None, 2, 2, 16)          0         \n",
            "                                                                 \n",
            " flatten (Flatten)           (None, 64)                0         \n",
            "                                                                 \n",
            " dense (Dense)               (None, 100)               6500      \n",
            "                                                                 \n",
            " dense_1 (Dense)             (None, 100)               10100     \n",
            "                                                                 \n",
            " dense_2 (Dense)             (None, 43)                4343      \n",
            "                                                                 \n",
            "=================================================================\n",
            "Total params: 28,719\n",
            "Trainable params: 28,719\n",
            "Non-trainable params: 0\n",
            "_________________________________________________________________\n"
          ]
        }
      ],
      "source": [
        "persian_model.summary()"
      ]
    },
    {
      "cell_type": "code",
      "execution_count": null,
      "metadata": {
        "colab": {
          "base_uri": "https://localhost:8080/"
        },
        "id": "GRPIFL1kvTxX",
        "outputId": "ebd7ebce-e325-41c5-992e-982514b9a8c6"
      },
      "outputs": [
        {
          "name": "stdout",
          "output_type": "stream",
          "text": [
            "2/2 [==============================] - 1s 118ms/step - loss: 0.1562 - accuracy: 0.9655\n",
            "Model Error= 3.45%\n"
          ]
        }
      ],
      "source": [
        "# Score: loss and accuracy\n",
        "score = persian_model.evaluate(testimage, testlabel)\n",
        "print(\"Model Error= %.2f%%\" %(100*(1-score[1])))"
      ]
    },
    {
      "cell_type": "code",
      "execution_count": null,
      "metadata": {
        "colab": {
          "base_uri": "https://localhost:8080/"
        },
        "id": "UxgdKjOlv77Z",
        "outputId": "4488e1e7-489b-4486-e4af-593369bfb652"
      },
      "outputs": [
        {
          "name": "stdout",
          "output_type": "stream",
          "text": [
            "2/2 [==============================] - 0s 88ms/step\n",
            "Prediction:  ayin\n",
            "Ground_Trust:  ayin\n"
          ]
        }
      ],
      "source": [
        "# Predicting test set\n",
        "n=54\n",
        "encoded_prediction = persian_model.predict(testimage)\n",
        "prediction = fitencoder.inverse_transform(encoded_prediction)\n",
        "pred = prediction[n][0]\n",
        "print(\"Prediction: \",pred)\n",
        "print(\"Ground_Trust: \",test_label[n])"
      ]
    }
  ]
}